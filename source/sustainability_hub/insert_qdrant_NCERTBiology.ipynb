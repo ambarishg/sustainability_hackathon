{
 "cells": [
  {
   "cell_type": "code",
   "execution_count": 239,
   "metadata": {},
   "outputs": [],
   "source": [
    "filename_pickle = \"Biomolecules.pkl\"\n",
    "collection_name='NCERT_Biology'\n",
    "host_name = '20.242.176.11'\n",
    "model_name = 'all-MiniLM-L6-v2'"
   ]
  },
  {
   "cell_type": "code",
   "execution_count": 240,
   "metadata": {},
   "outputs": [],
   "source": [
    "import pandas as pd\n",
    "import pickle"
   ]
  },
  {
   "cell_type": "code",
   "execution_count": 241,
   "metadata": {},
   "outputs": [],
   "source": [
    "from sentence_transformers import SentenceTransformer"
   ]
  },
  {
   "cell_type": "code",
   "execution_count": 242,
   "metadata": {},
   "outputs": [],
   "source": [
    "from qdrant_client import QdrantClient\n",
    "from qdrant_client.models import VectorParams, Distance\n",
    "from qdrant_client.models import PointStruct"
   ]
  },
  {
   "cell_type": "code",
   "execution_count": 243,
   "metadata": {},
   "outputs": [],
   "source": [
    "model = SentenceTransformer(model_name)"
   ]
  },
  {
   "cell_type": "code",
   "execution_count": 244,
   "metadata": {},
   "outputs": [],
   "source": [
    "qdrant_client = QdrantClient(host=host_name, port=6333)"
   ]
  },
  {
   "cell_type": "code",
   "execution_count": 245,
   "metadata": {},
   "outputs": [],
   "source": [
    "def get_encodings():\n",
    "    if (filename_pickle != \"\"):\n",
    "        with open(filename_pickle, 'rb') as f: \n",
    "            df_embeddings = pickle.load(f)\n",
    "    embeddings_all = df_embeddings[\"embeddings\"].tolist()\n",
    "    Lines = df_embeddings[\"text\"].tolist()\n",
    "    return embeddings_all,Lines"
   ]
  },
  {
   "cell_type": "code",
   "execution_count": 246,
   "metadata": {},
   "outputs": [],
   "source": [
    "embeddings_all,Lines = get_encodings()"
   ]
  },
  {
   "cell_type": "code",
   "execution_count": 247,
   "metadata": {},
   "outputs": [
    {
     "data": {
      "text/plain": [
       "19"
      ]
     },
     "execution_count": 247,
     "metadata": {},
     "output_type": "execute_result"
    }
   ],
   "source": [
    "total_len = len(Lines)\n",
    "total_len"
   ]
  },
  {
   "cell_type": "code",
   "execution_count": 248,
   "metadata": {},
   "outputs": [],
   "source": [
    "import uuid"
   ]
  },
  {
   "cell_type": "code",
   "execution_count": 249,
   "metadata": {},
   "outputs": [
    {
     "data": {
      "text/plain": [
       "UpdateResult(operation_id=1, status=<UpdateStatus.COMPLETED: 'completed'>)"
      ]
     },
     "execution_count": 249,
     "metadata": {},
     "output_type": "execute_result"
    }
   ],
   "source": [
    "qdrant_client.upsert(\n",
    "    collection_name=collection_name,\n",
    "    points=[\n",
    "        PointStruct(\n",
    "            id = str(uuid.uuid1()),\n",
    "            vector=embeddings_all[i],\n",
    "            payload={\"text\":Lines[i]}\n",
    "        )\n",
    "        for i in range(total_len)\n",
    "    ]\n",
    ")"
   ]
  },
  {
   "cell_type": "code",
   "execution_count": 268,
   "metadata": {},
   "outputs": [],
   "source": [
    "user_input =\"What are the keywords for BioMolecules?\""
   ]
  },
  {
   "cell_type": "code",
   "execution_count": 269,
   "metadata": {},
   "outputs": [],
   "source": [
    "def get_model():    \n",
    "    model = SentenceTransformer(model_name)\n",
    "    return model"
   ]
  },
  {
   "cell_type": "code",
   "execution_count": 270,
   "metadata": {},
   "outputs": [],
   "source": [
    "q_new = user_input\n",
    "q_new_embeddings = get_model().encode(q_new)"
   ]
  },
  {
   "cell_type": "code",
   "execution_count": 271,
   "metadata": {},
   "outputs": [],
   "source": [
    "search_result = qdrant_client.search(\n",
    "            collection_name=collection_name,\n",
    "            query_vector=q_new_embeddings,\n",
    "            query_filter=None,  # We don't want any filters for now\n",
    "            top=3,  # 5 the most closest results is enough\n",
    "            limit = 3,\n",
    "            with_vectors=False,  # We don't need vectors in response\n",
    "        )"
   ]
  },
  {
   "cell_type": "code",
   "execution_count": 272,
   "metadata": {},
   "outputs": [
    {
     "data": {
      "text/plain": [
       "3"
      ]
     },
     "execution_count": 272,
     "metadata": {},
     "output_type": "execute_result"
    }
   ],
   "source": [
    "len(search_result)"
   ]
  },
  {
   "cell_type": "code",
   "execution_count": 273,
   "metadata": {},
   "outputs": [],
   "source": [
    "assert len(search_result) == 3"
   ]
  },
  {
   "cell_type": "code",
   "execution_count": 274,
   "metadata": {},
   "outputs": [
    {
     "data": {
      "text/plain": [
       "[ScoredPoint(id='f200b689-ef3d-11ed-a788-d41b81ac7ad2', version=1, score=0.5774008, payload={'text': 'material. Polysaccharides are components of cell wall in plants, fungi and also\\n of the exoskeleton of arthropods. They also are storage forms of energy (e.g. ,\\n starch and glycogen). Proteins serve a variety of cellular functions. Many of\\n them are enzymes, some are antibodies, some are receptors, some are hormones\\n and some others are structural proteins. Collagen is the most abundant protein\\n in animal world and Ribulose bisphosphate Carboxylase-Oxygenase ( RuBisCO )\\n is the most abundant protein in the whole of the biosphere.\\n Enzymes are proteins which catalyse biochemical reactions in the cells.\\n Ribozymes ar e nucleic acids with catalytic power . Proteinaceous enzymes exhibit\\n substrate specificity, require optimum temperature and pH for maximal activity.\\n They are denatured at high temperatures. Enzymes lower activation energy of\\n reactions and enhance greatly the rate of the reactions. Nucleic acids carry\\n hereditary information and are passed on from parental generation to progeny.\\n EXERCISES\\n 1.What are macromolecules? Give examples.\\n 2.What is meant by tertiary structure of proteins?\\n 3.Find and write down structures of 10 interesting small molecular weight\\n biomolecules. Find if there is any industry which manufactures the compounds\\n by isolation. Find out who are the buyers.\\n 4.Find out and make a list of proteins used as therapeutic agents. Find other\\n applications of proteins (e.g., Cosmetics etc.)\\n 5.Explain the composition of triglyceride.\\n 6.Can you attempt building models of biomolecules using commercially available\\n atomic models (Ball and Stick models).\\n 7.Draw the structure of the amino acid, alanine.\\n 8.What are gums made of? Is Fevicol different?\\n 9.Find out a qualitative test for proteins, fats and oils, amino acids and test any\\n fruit juice, saliva, sweat and urine for them.\\n 10.Find out how much cellulose is made by all the plants in the biosphere and\\n compare it with how much of paper is manufactured by man and hence what is'}, vector=None),\n",
       " ScoredPoint(id='f1faaea1-ef3d-11ed-a120-d41b81ac7ad2', version=1, score=0.52270865, payload={'text': 'Sugars (Carbohydrates)Serine Glycine\\n Amino acidsAlanine\\n Figure 9.1 Diagrammatic representation of small molecular weight organic\\n compounds in living tissuesOOHN\\n N\\n HAdenine (Purine)\\n Uracil (Pyrimidine)\\n Rationalised 2023-24\\n 108 BIOLOGY\\n 9.2PRIMARY  AND SECONDARY  METABOLITES\\n The most exciting aspect of chemistry deals with isolating thousands of\\n compounds, small and big, from living organisms, determining their\\n structure and if possible synthesising them.\\n If one were to make a list of biomolecules, such a list would have\\n thousands of organic compounds including amino acids, sugars, etc.\\n For reasons that are given in section 9.10, we can call these biomolecules\\n as ‘metabolites’. In animal tissues, one notices the presence of all such\\n categories of compounds shown in Figure 9.1. These are called primary\\n metabolites. However , when one analyses plant, fungal and microbial cells,\\n one would see thousands of compounds other than these called primary\\n metabolites, e.g. alkaloids, flavonoids, rubber , essential oils, antibiotics,\\n coloured pigments, scents, gums, spices. These\\n are called secondary metabolites  (Table 9.3).\\n While primary metabolites have identifiable\\n functions and play known roles in normal\\n physiologial processes, we do not at the moment,\\n understand the role or functions of all the\\n ‘secondary metabolites’ in host organisms.\\n However , many of them are useful to ‘human\\n welfar e’ (e.g., rubber , drugs, spices, scents and\\n pigments). Some secondary metabolites have\\n ecological importance. In the later chapters and\\n years you will learn more about this.\\n 9.3BIOMACROMOLECULES\\n There is one feature common to all those compounds found in the acid\\n soluble pool. They have molecular weights ranging from 18 to around\\n 800 daltons (Da) approximately.\\n The acid insoluble fraction, has only four types of organic compounds\\n i.e., proteins, nucleic acids, polysaccharides and lipids. These classes of'}, vector=None),\n",
       " ScoredPoint(id='f1fb23c6-ef3d-11ed-9286-d41b81ac7ad2', version=1, score=0.44481313, payload={'text': 'In summary if we represent the chemical\\n composition of living tissue from abundance point of\\n view and arrange them class-wise, we observe that\\n water is the most abundant chemical in living\\n organisms (Table 9.4).\\n 9.4PROTEINS\\n Proteins are polypeptides. They are linear chains of\\n amino acids linked by peptide bonds as shown in\\n Figure 9.3.\\n Each protein is a polymer of amino acids. As there\\n are 20 types of amino acids (e.g., alanine, cysteine,\\n proline, tryptophan, lysine, etc.), a protein is a\\n heter opolymer and not a homopolymer . A\\n homopolymer has only one type of monomer repeating\\n ‘n’ number of times. This information about the amino\\n acid content is important as later in your nutrition\\n lessons, you will learn that certain amino acids are\\n essential for our health and they have to be supplied\\n through our diet. Hence, dietary proteins are the\\n source of essential amino acids. Therefore, amino acids\\n can be essential or non-essential. The latter are those\\n which our body can make, while we get essential amino\\n acids through our diet/food. Proteins carry out many\\n functions in living organisms, some transport\\n nutrients across cell membrane, some fight infectious\\n organisms, some are hormones, some are enzymes,TABLE 9.5 Some Proteins and their\\n Functions\\n Protein Functions\\n Collagen Intercellular ground\\n substance\\n Trypsin Enzyme\\n Insulin Hormone\\n Antibody Fights infectious agents\\n Receptor Sensory reception\\n (smell, taste, hormone,\\n etc.)\\n GLUT -4 Enables glucose\\n transport\\n into cells\\n Rationalised 2023-24\\n 110 BIOLOGY\\n CH OH2 CH OH2\\n CH2OHOH\\n OH OH\\n OHOO O\\n OO O\\n O\\n O O O OOO\\n Figure 9.2  Diagrammatic representation of a portion of glycogenetc. (Table 9.5). Collagen is the most abundant protein in animal world\\n and Ribulose bisphosphate Carboxylase-Oxygenase (RuBisCO ) is the\\n most abundant protein in the whole of the biosphere.\\n 9.5POLYSACCHARIDES\\n The acid insoluble pellet also has polysaccharides (carbohydrates) as'}, vector=None)]"
      ]
     },
     "execution_count": 274,
     "metadata": {},
     "output_type": "execute_result"
    }
   ],
   "source": [
    "search_result"
   ]
  },
  {
   "cell_type": "code",
   "execution_count": 275,
   "metadata": {},
   "outputs": [],
   "source": [
    "payloads = [hit.payload for hit in search_result]"
   ]
  },
  {
   "cell_type": "code",
   "execution_count": 276,
   "metadata": {},
   "outputs": [
    {
     "data": {
      "text/plain": [
       "[{'text': 'material. Polysaccharides are components of cell wall in plants, fungi and also\\n of the exoskeleton of arthropods. They also are storage forms of energy (e.g. ,\\n starch and glycogen). Proteins serve a variety of cellular functions. Many of\\n them are enzymes, some are antibodies, some are receptors, some are hormones\\n and some others are structural proteins. Collagen is the most abundant protein\\n in animal world and Ribulose bisphosphate Carboxylase-Oxygenase ( RuBisCO )\\n is the most abundant protein in the whole of the biosphere.\\n Enzymes are proteins which catalyse biochemical reactions in the cells.\\n Ribozymes ar e nucleic acids with catalytic power . Proteinaceous enzymes exhibit\\n substrate specificity, require optimum temperature and pH for maximal activity.\\n They are denatured at high temperatures. Enzymes lower activation energy of\\n reactions and enhance greatly the rate of the reactions. Nucleic acids carry\\n hereditary information and are passed on from parental generation to progeny.\\n EXERCISES\\n 1.What are macromolecules? Give examples.\\n 2.What is meant by tertiary structure of proteins?\\n 3.Find and write down structures of 10 interesting small molecular weight\\n biomolecules. Find if there is any industry which manufactures the compounds\\n by isolation. Find out who are the buyers.\\n 4.Find out and make a list of proteins used as therapeutic agents. Find other\\n applications of proteins (e.g., Cosmetics etc.)\\n 5.Explain the composition of triglyceride.\\n 6.Can you attempt building models of biomolecules using commercially available\\n atomic models (Ball and Stick models).\\n 7.Draw the structure of the amino acid, alanine.\\n 8.What are gums made of? Is Fevicol different?\\n 9.Find out a qualitative test for proteins, fats and oils, amino acids and test any\\n fruit juice, saliva, sweat and urine for them.\\n 10.Find out how much cellulose is made by all the plants in the biosphere and\\n compare it with how much of paper is manufactured by man and hence what is'},\n",
       " {'text': 'Sugars (Carbohydrates)Serine Glycine\\n Amino acidsAlanine\\n Figure 9.1 Diagrammatic representation of small molecular weight organic\\n compounds in living tissuesOOHN\\n N\\n HAdenine (Purine)\\n Uracil (Pyrimidine)\\n Rationalised 2023-24\\n 108 BIOLOGY\\n 9.2PRIMARY  AND SECONDARY  METABOLITES\\n The most exciting aspect of chemistry deals with isolating thousands of\\n compounds, small and big, from living organisms, determining their\\n structure and if possible synthesising them.\\n If one were to make a list of biomolecules, such a list would have\\n thousands of organic compounds including amino acids, sugars, etc.\\n For reasons that are given in section 9.10, we can call these biomolecules\\n as ‘metabolites’. In animal tissues, one notices the presence of all such\\n categories of compounds shown in Figure 9.1. These are called primary\\n metabolites. However , when one analyses plant, fungal and microbial cells,\\n one would see thousands of compounds other than these called primary\\n metabolites, e.g. alkaloids, flavonoids, rubber , essential oils, antibiotics,\\n coloured pigments, scents, gums, spices. These\\n are called secondary metabolites  (Table 9.3).\\n While primary metabolites have identifiable\\n functions and play known roles in normal\\n physiologial processes, we do not at the moment,\\n understand the role or functions of all the\\n ‘secondary metabolites’ in host organisms.\\n However , many of them are useful to ‘human\\n welfar e’ (e.g., rubber , drugs, spices, scents and\\n pigments). Some secondary metabolites have\\n ecological importance. In the later chapters and\\n years you will learn more about this.\\n 9.3BIOMACROMOLECULES\\n There is one feature common to all those compounds found in the acid\\n soluble pool. They have molecular weights ranging from 18 to around\\n 800 daltons (Da) approximately.\\n The acid insoluble fraction, has only four types of organic compounds\\n i.e., proteins, nucleic acids, polysaccharides and lipids. These classes of'},\n",
       " {'text': 'In summary if we represent the chemical\\n composition of living tissue from abundance point of\\n view and arrange them class-wise, we observe that\\n water is the most abundant chemical in living\\n organisms (Table 9.4).\\n 9.4PROTEINS\\n Proteins are polypeptides. They are linear chains of\\n amino acids linked by peptide bonds as shown in\\n Figure 9.3.\\n Each protein is a polymer of amino acids. As there\\n are 20 types of amino acids (e.g., alanine, cysteine,\\n proline, tryptophan, lysine, etc.), a protein is a\\n heter opolymer and not a homopolymer . A\\n homopolymer has only one type of monomer repeating\\n ‘n’ number of times. This information about the amino\\n acid content is important as later in your nutrition\\n lessons, you will learn that certain amino acids are\\n essential for our health and they have to be supplied\\n through our diet. Hence, dietary proteins are the\\n source of essential amino acids. Therefore, amino acids\\n can be essential or non-essential. The latter are those\\n which our body can make, while we get essential amino\\n acids through our diet/food. Proteins carry out many\\n functions in living organisms, some transport\\n nutrients across cell membrane, some fight infectious\\n organisms, some are hormones, some are enzymes,TABLE 9.5 Some Proteins and their\\n Functions\\n Protein Functions\\n Collagen Intercellular ground\\n substance\\n Trypsin Enzyme\\n Insulin Hormone\\n Antibody Fights infectious agents\\n Receptor Sensory reception\\n (smell, taste, hormone,\\n etc.)\\n GLUT -4 Enables glucose\\n transport\\n into cells\\n Rationalised 2023-24\\n 110 BIOLOGY\\n CH OH2 CH OH2\\n CH2OHOH\\n OH OH\\n OHOO O\\n OO O\\n O\\n O O O OOO\\n Figure 9.2  Diagrammatic representation of a portion of glycogenetc. (Table 9.5). Collagen is the most abundant protein in animal world\\n and Ribulose bisphosphate Carboxylase-Oxygenase (RuBisCO ) is the\\n most abundant protein in the whole of the biosphere.\\n 9.5POLYSACCHARIDES\\n The acid insoluble pellet also has polysaccharides (carbohydrates) as'}]"
      ]
     },
     "execution_count": 276,
     "metadata": {},
     "output_type": "execute_result"
    }
   ],
   "source": [
    "payloads"
   ]
  },
  {
   "cell_type": "code",
   "execution_count": 277,
   "metadata": {},
   "outputs": [
    {
     "data": {
      "text/plain": [
       "'material. Polysaccharides are components of cell wall in plants, fungi and also\\n of the exoskeleton of arthropods. They also are storage forms of energy (e.g. ,\\n starch and glycogen). Proteins serve a variety of cellular functions. Many of\\n them are enzymes, some are antibodies, some are receptors, some are hormones\\n and some others are structural proteins. Collagen is the most abundant protein\\n in animal world and Ribulose bisphosphate Carboxylase-Oxygenase ( RuBisCO )\\n is the most abundant protein in the whole of the biosphere.\\n Enzymes are proteins which catalyse biochemical reactions in the cells.\\n Ribozymes ar e nucleic acids with catalytic power . Proteinaceous enzymes exhibit\\n substrate specificity, require optimum temperature and pH for maximal activity.\\n They are denatured at high temperatures. Enzymes lower activation energy of\\n reactions and enhance greatly the rate of the reactions. Nucleic acids carry\\n hereditary information and are passed on from parental generation to progeny.\\n EXERCISES\\n 1.What are macromolecules? Give examples.\\n 2.What is meant by tertiary structure of proteins?\\n 3.Find and write down structures of 10 interesting small molecular weight\\n biomolecules. Find if there is any industry which manufactures the compounds\\n by isolation. Find out who are the buyers.\\n 4.Find out and make a list of proteins used as therapeutic agents. Find other\\n applications of proteins (e.g., Cosmetics etc.)\\n 5.Explain the composition of triglyceride.\\n 6.Can you attempt building models of biomolecules using commercially available\\n atomic models (Ball and Stick models).\\n 7.Draw the structure of the amino acid, alanine.\\n 8.What are gums made of? Is Fevicol different?\\n 9.Find out a qualitative test for proteins, fats and oils, amino acids and test any\\n fruit juice, saliva, sweat and urine for them.\\n 10.Find out how much cellulose is made by all the plants in the biosphere and\\n compare it with how much of paper is manufactured by man and hence what is'"
      ]
     },
     "execution_count": 277,
     "metadata": {},
     "output_type": "execute_result"
    }
   ],
   "source": [
    "payloads[0][\"text\"]"
   ]
  },
  {
   "cell_type": "code",
   "execution_count": 278,
   "metadata": {},
   "outputs": [],
   "source": [
    "import openai\n",
    "key = 'd6bcc40e68fc4119abcd43b4661dc8e3'\n",
    "location = 'eastus'\n",
    "endpoint = 'https://openaidemos007.openai.azure.com/'\n",
    "\n",
    "openai.api_type = \"azure\"\n",
    "openai.api_key = key\n",
    "openai.api_base = endpoint\n",
    "\n",
    "deployment_id='gta'\n",
    "deployment_id_gpt4='gpt4'\n",
    "\n",
    "openai.api_key = key"
   ]
  },
  {
   "cell_type": "code",
   "execution_count": 279,
   "metadata": {},
   "outputs": [],
   "source": [
    "def create_prompt(context,query):\n",
    "    header = \"Answer the question as truthfully as possible using the provided context, and if the answer is not contained within the text and requires some latest information to be updated, print 'Sorry Not Sufficient context to answer query' \\n\"\n",
    "    return header + context + \"\\n\\n\" + query + \"\\n\"\n",
    "\n",
    "def generate_answer(prompt):\n",
    "    response = openai.Completion.create(\n",
    "    engine=deployment_id,\n",
    "    prompt=prompt,\n",
    "    temperature=0,\n",
    "    max_tokens=256,\n",
    "    top_p=1,\n",
    "    frequency_penalty=0,\n",
    "    presence_penalty=0,\n",
    "    stop = [' END']\n",
    "    )\n",
    "    return (response.choices[0].text).strip()\n",
    "\n",
    "def generate_answer_Chat(conversation):\n",
    "    openai.api_version = \"2023-03-15-preview\"\n",
    "    response = openai.ChatCompletion.create(\n",
    "    engine=deployment_id_gpt4,\n",
    "    messages=conversation,\n",
    "    temperature=0,\n",
    "    max_tokens=256,\n",
    "    top_p=1,\n",
    "    frequency_penalty=0,\n",
    "    presence_penalty=0,\n",
    "    stop = [' END']\n",
    "    )\n",
    "    return (response['choices'][0]['message']['content']).strip()\n",
    "\n"
   ]
  },
  {
   "cell_type": "code",
   "execution_count": 280,
   "metadata": {},
   "outputs": [],
   "source": [
    "payloads = [hit.payload for hit in search_result]\n",
    "metadata = [res[\"text\"] for res in payloads]\n",
    "df = pd.DataFrame({'content': metadata })\n",
    "context= \"\\n\\n\".join((df[\"content\"]))"
   ]
  },
  {
   "cell_type": "code",
   "execution_count": 281,
   "metadata": {},
   "outputs": [
    {
     "data": {
      "text/plain": [
       "'material. Polysaccharides are components of cell wall in plants, fungi and also\\n of the exoskeleton of arthropods. They also are storage forms of energy (e.g. ,\\n starch and glycogen). Proteins serve a variety of cellular functions. Many of\\n them are enzymes, some are antibodies, some are receptors, some are hormones\\n and some others are structural proteins. Collagen is the most abundant protein\\n in animal world and Ribulose bisphosphate Carboxylase-Oxygenase ( RuBisCO )\\n is the most abundant protein in the whole of the biosphere.\\n Enzymes are proteins which catalyse biochemical reactions in the cells.\\n Ribozymes ar e nucleic acids with catalytic power . Proteinaceous enzymes exhibit\\n substrate specificity, require optimum temperature and pH for maximal activity.\\n They are denatured at high temperatures. Enzymes lower activation energy of\\n reactions and enhance greatly the rate of the reactions. Nucleic acids carry\\n hereditary information and are passed on from parental generation to progeny.\\n EXERCISES\\n 1.What are macromolecules? Give examples.\\n 2.What is meant by tertiary structure of proteins?\\n 3.Find and write down structures of 10 interesting small molecular weight\\n biomolecules. Find if there is any industry which manufactures the compounds\\n by isolation. Find out who are the buyers.\\n 4.Find out and make a list of proteins used as therapeutic agents. Find other\\n applications of proteins (e.g., Cosmetics etc.)\\n 5.Explain the composition of triglyceride.\\n 6.Can you attempt building models of biomolecules using commercially available\\n atomic models (Ball and Stick models).\\n 7.Draw the structure of the amino acid, alanine.\\n 8.What are gums made of? Is Fevicol different?\\n 9.Find out a qualitative test for proteins, fats and oils, amino acids and test any\\n fruit juice, saliva, sweat and urine for them.\\n 10.Find out how much cellulose is made by all the plants in the biosphere and\\n compare it with how much of paper is manufactured by man and hence what is\\n\\nSugars (Carbohydrates)Serine Glycine\\n Amino acidsAlanine\\n Figure 9.1 Diagrammatic representation of small molecular weight organic\\n compounds in living tissuesOOHN\\n N\\n HAdenine (Purine)\\n Uracil (Pyrimidine)\\n Rationalised 2023-24\\n 108 BIOLOGY\\n 9.2PRIMARY  AND SECONDARY  METABOLITES\\n The most exciting aspect of chemistry deals with isolating thousands of\\n compounds, small and big, from living organisms, determining their\\n structure and if possible synthesising them.\\n If one were to make a list of biomolecules, such a list would have\\n thousands of organic compounds including amino acids, sugars, etc.\\n For reasons that are given in section 9.10, we can call these biomolecules\\n as ‘metabolites’. In animal tissues, one notices the presence of all such\\n categories of compounds shown in Figure 9.1. These are called primary\\n metabolites. However , when one analyses plant, fungal and microbial cells,\\n one would see thousands of compounds other than these called primary\\n metabolites, e.g. alkaloids, flavonoids, rubber , essential oils, antibiotics,\\n coloured pigments, scents, gums, spices. These\\n are called secondary metabolites  (Table 9.3).\\n While primary metabolites have identifiable\\n functions and play known roles in normal\\n physiologial processes, we do not at the moment,\\n understand the role or functions of all the\\n ‘secondary metabolites’ in host organisms.\\n However , many of them are useful to ‘human\\n welfar e’ (e.g., rubber , drugs, spices, scents and\\n pigments). Some secondary metabolites have\\n ecological importance. In the later chapters and\\n years you will learn more about this.\\n 9.3BIOMACROMOLECULES\\n There is one feature common to all those compounds found in the acid\\n soluble pool. They have molecular weights ranging from 18 to around\\n 800 daltons (Da) approximately.\\n The acid insoluble fraction, has only four types of organic compounds\\n i.e., proteins, nucleic acids, polysaccharides and lipids. These classes of\\n\\nIn summary if we represent the chemical\\n composition of living tissue from abundance point of\\n view and arrange them class-wise, we observe that\\n water is the most abundant chemical in living\\n organisms (Table 9.4).\\n 9.4PROTEINS\\n Proteins are polypeptides. They are linear chains of\\n amino acids linked by peptide bonds as shown in\\n Figure 9.3.\\n Each protein is a polymer of amino acids. As there\\n are 20 types of amino acids (e.g., alanine, cysteine,\\n proline, tryptophan, lysine, etc.), a protein is a\\n heter opolymer and not a homopolymer . A\\n homopolymer has only one type of monomer repeating\\n ‘n’ number of times. This information about the amino\\n acid content is important as later in your nutrition\\n lessons, you will learn that certain amino acids are\\n essential for our health and they have to be supplied\\n through our diet. Hence, dietary proteins are the\\n source of essential amino acids. Therefore, amino acids\\n can be essential or non-essential. The latter are those\\n which our body can make, while we get essential amino\\n acids through our diet/food. Proteins carry out many\\n functions in living organisms, some transport\\n nutrients across cell membrane, some fight infectious\\n organisms, some are hormones, some are enzymes,TABLE 9.5 Some Proteins and their\\n Functions\\n Protein Functions\\n Collagen Intercellular ground\\n substance\\n Trypsin Enzyme\\n Insulin Hormone\\n Antibody Fights infectious agents\\n Receptor Sensory reception\\n (smell, taste, hormone,\\n etc.)\\n GLUT -4 Enables glucose\\n transport\\n into cells\\n Rationalised 2023-24\\n 110 BIOLOGY\\n CH OH2 CH OH2\\n CH2OHOH\\n OH OH\\n OHOO O\\n OO O\\n O\\n O O O OOO\\n Figure 9.2  Diagrammatic representation of a portion of glycogenetc. (Table 9.5). Collagen is the most abundant protein in animal world\\n and Ribulose bisphosphate Carboxylase-Oxygenase (RuBisCO ) is the\\n most abundant protein in the whole of the biosphere.\\n 9.5POLYSACCHARIDES\\n The acid insoluble pellet also has polysaccharides (carbohydrates) as'"
      ]
     },
     "execution_count": 281,
     "metadata": {},
     "output_type": "execute_result"
    }
   ],
   "source": [
    "context"
   ]
  },
  {
   "cell_type": "code",
   "execution_count": 282,
   "metadata": {},
   "outputs": [],
   "source": [
    "prompt = create_prompt(context,q_new)\n",
    "conversation=[{\"role\": \"system\", \"content\": \"You are a helpful assistant.\"}]\n",
    "conversation.append({\"role\": \"assistant\", \"content\": prompt})\n",
    "conversation.append({\"role\": \"user\", \"content\": user_input})\n",
    "reply = generate_answer_Chat(conversation)"
   ]
  },
  {
   "cell_type": "code",
   "execution_count": 283,
   "metadata": {},
   "outputs": [
    {
     "data": {
      "text/plain": [
       "'Some keywords for biomolecules include:\\n\\n1. Macromolecules\\n2. Proteins\\n3. Nucleic acids\\n4. Polysaccharides\\n5. Lipids\\n6. Amino acids\\n7. Carbohydrates\\n8. Enzymes\\n9. DNA (Deoxyribonucleic acid)\\n10. RNA (Ribonucleic acid)\\n11. Monosaccharides\\n12. Disaccharides\\n13. Fatty acids\\n14. Glycerol\\n15. Triglycerides\\n16. Peptide bonds\\n17. Primary structure\\n18. Secondary structure\\n19. Tertiary structure\\n20. Quaternary structure\\n21. Primary metabolites\\n22. Secondary metabolites\\n23. Hormones\\n24. Antibodies\\n25. Receptors\\n26. Collagen\\n27. RuBisCO (Ribulose bisphosphate Carboxylase-Oxygenase)\\n28. Cellulose\\n29. Glycogen\\n30. Starch'"
      ]
     },
     "execution_count": 283,
     "metadata": {},
     "output_type": "execute_result"
    }
   ],
   "source": [
    "reply"
   ]
  },
  {
   "cell_type": "code",
   "execution_count": 284,
   "metadata": {},
   "outputs": [],
   "source": [
    "result = qdrant_client.get_collection(collection_name=collection_name)"
   ]
  },
  {
   "cell_type": "code",
   "execution_count": 285,
   "metadata": {},
   "outputs": [
    {
     "data": {
      "text/plain": [
       "CollectionInfo(status=<CollectionStatus.GREEN: 'green'>, optimizer_status=<OptimizersStatusOneOf.OK: 'ok'>, vectors_count=32, indexed_vectors_count=0, points_count=32, segments_count=2, config=CollectionConfig(params=CollectionParams(vectors=VectorParams(size=384, distance=<Distance.COSINE: 'Cosine'>, hnsw_config=None, quantization_config=None), shard_number=1, replication_factor=1, write_consistency_factor=1, on_disk_payload=True), hnsw_config=HnswConfig(m=16, ef_construct=100, full_scan_threshold=10000, max_indexing_threads=0, on_disk=False, payload_m=None), optimizer_config=OptimizersConfig(deleted_threshold=0.2, vacuum_min_vector_number=1000, default_segment_number=0, max_segment_size=None, memmap_threshold=None, indexing_threshold=20000, flush_interval_sec=5, max_optimization_threads=1), wal_config=WalConfig(wal_capacity_mb=32, wal_segments_ahead=0), quantization_config=None), payload_schema={})"
      ]
     },
     "execution_count": 285,
     "metadata": {},
     "output_type": "execute_result"
    }
   ],
   "source": [
    "result"
   ]
  },
  {
   "cell_type": "code",
   "execution_count": null,
   "metadata": {},
   "outputs": [],
   "source": []
  }
 ],
 "metadata": {
  "kernelspec": {
   "display_name": "Python 3",
   "language": "python",
   "name": "python3"
  },
  "language_info": {
   "codemirror_mode": {
    "name": "ipython",
    "version": 3
   },
   "file_extension": ".py",
   "mimetype": "text/x-python",
   "name": "python",
   "nbconvert_exporter": "python",
   "pygments_lexer": "ipython3",
   "version": "3.9.13"
  },
  "orig_nbformat": 4
 },
 "nbformat": 4,
 "nbformat_minor": 2
}
