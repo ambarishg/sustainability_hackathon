{
 "cells": [
  {
   "cell_type": "code",
   "execution_count": 1,
   "metadata": {},
   "outputs": [],
   "source": [
    "import pandas as pd\n",
    "import pickle"
   ]
  },
  {
   "cell_type": "code",
   "execution_count": 2,
   "metadata": {},
   "outputs": [],
   "source": [
    "from sentence_transformers import SentenceTransformer"
   ]
  },
  {
   "cell_type": "code",
   "execution_count": 3,
   "metadata": {},
   "outputs": [],
   "source": [
    "from qdrant_client import QdrantClient\n",
    "from qdrant_client.models import VectorParams, Distance\n",
    "from qdrant_client.models import PointStruct"
   ]
  },
  {
   "cell_type": "code",
   "execution_count": 16,
   "metadata": {},
   "outputs": [],
   "source": [
    "model_name = 'all-MiniLM-L6-v2'"
   ]
  },
  {
   "cell_type": "code",
   "execution_count": 4,
   "metadata": {},
   "outputs": [],
   "source": [
    "model = SentenceTransformer(model_name)"
   ]
  },
  {
   "cell_type": "code",
   "execution_count": 5,
   "metadata": {},
   "outputs": [],
   "source": [
    "filename_pickle = \"BioMolecules.pkl\"\n",
    "collection_name='NCERT_Biology'"
   ]
  },
  {
   "cell_type": "code",
   "execution_count": 36,
   "metadata": {},
   "outputs": [],
   "source": [
    "qdrant_client = QdrantClient(host='20.242.176.11', port=6333)"
   ]
  },
  {
   "cell_type": "code",
   "execution_count": 37,
   "metadata": {},
   "outputs": [
    {
     "data": {
      "text/plain": [
       "True"
      ]
     },
     "execution_count": 37,
     "metadata": {},
     "output_type": "execute_result"
    }
   ],
   "source": [
    "qdrant_client.delete_collection(collection_name=collection_name)"
   ]
  },
  {
   "cell_type": "code",
   "execution_count": 8,
   "metadata": {},
   "outputs": [
    {
     "data": {
      "text/plain": [
       "True"
      ]
     },
     "execution_count": 8,
     "metadata": {},
     "output_type": "execute_result"
    }
   ],
   "source": [
    "qdrant_client.recreate_collection(\n",
    "    collection_name=collection_name, \n",
    "    vectors_config=VectorParams(size=384, distance=Distance.COSINE),\n",
    ")"
   ]
  },
  {
   "cell_type": "code",
   "execution_count": 9,
   "metadata": {},
   "outputs": [],
   "source": [
    "def get_encodings():\n",
    "    if (filename_pickle != \"\"):\n",
    "        with open(filename_pickle, 'rb') as f: \n",
    "            df_embeddings = pickle.load(f)\n",
    "    embeddings_all = df_embeddings[\"embeddings\"].tolist()\n",
    "    Lines = df_embeddings[\"text\"].tolist()\n",
    "    return embeddings_all,Lines"
   ]
  },
  {
   "cell_type": "code",
   "execution_count": 17,
   "metadata": {},
   "outputs": [],
   "source": [
    "embeddings_all,Lines = get_encodings()"
   ]
  },
  {
   "cell_type": "code",
   "execution_count": 18,
   "metadata": {},
   "outputs": [],
   "source": [
    "total_len = len(Lines)"
   ]
  },
  {
   "cell_type": "code",
   "execution_count": 19,
   "metadata": {},
   "outputs": [
    {
     "data": {
      "text/plain": [
       "UpdateResult(operation_id=1, status=<UpdateStatus.COMPLETED: 'completed'>)"
      ]
     },
     "execution_count": 19,
     "metadata": {},
     "output_type": "execute_result"
    }
   ],
   "source": [
    "qdrant_client.upsert(\n",
    "    collection_name=collection_name,\n",
    "    points=[\n",
    "        PointStruct(\n",
    "            id=i,\n",
    "            vector=embeddings_all[i],\n",
    "            payload={\"text\":Lines[i]}\n",
    "        )\n",
    "        for i in range(total_len)\n",
    "    ]\n",
    ")"
   ]
  },
  {
   "cell_type": "code",
   "execution_count": 20,
   "metadata": {},
   "outputs": [],
   "source": [
    "user_input =\"What are the keywords for this chapter?\""
   ]
  },
  {
   "cell_type": "code",
   "execution_count": 21,
   "metadata": {},
   "outputs": [],
   "source": [
    "def get_model():    \n",
    "    model = SentenceTransformer(model_name)\n",
    "    return model"
   ]
  },
  {
   "cell_type": "code",
   "execution_count": 22,
   "metadata": {},
   "outputs": [],
   "source": [
    "q_new = user_input\n",
    "q_new_embeddings = get_model().encode(q_new)"
   ]
  },
  {
   "cell_type": "code",
   "execution_count": 23,
   "metadata": {},
   "outputs": [],
   "source": [
    "search_result = qdrant_client.search(\n",
    "            collection_name=collection_name,\n",
    "            query_vector=q_new_embeddings,\n",
    "            query_filter=None,  # We don't want any filters for now\n",
    "            top=3  # 5 the most closest results is enough\n",
    "        )"
   ]
  },
  {
   "cell_type": "code",
   "execution_count": 24,
   "metadata": {},
   "outputs": [
    {
     "data": {
      "text/plain": [
       "[ScoredPoint(id=18, version=1, score=0.23516712, payload={'text': 'the consumption of plant material by man annually. What a loss of vegetation!\\n 11.Describe the important properties of enzymes.\\n Rationalised 2023-24'}, vector=None),\n",
       " ScoredPoint(id=9, version=1, score=0.10278166, payload={'text': 'secondary structure  (Fig. 9.3 b) . In\\n addition, the long protein chain is\\n also folded upon itself like a hollow\\n woolen ball, giving rise to the\\n tertiary structure  (Fig. 9.3 c). This\\n gives us a 3-dimensional view of a\\n protein.  Tertiary  structure  is\\n absolutely necessary for the many\\n biological activities of proteins.\\n Figure 9.3 Various levels of Pr otein Structur e(a) Primary\\n (b) Secondary\\n (d)     QuaternaryHydrogen\\n Disulphide bondBeta–plated sheetPolypeptide\\n TertiaryAlpha–Helix\\n (c)\\n Some proteins are an assembly of more than one polypeptide or\\n subunits. The manner in which these individual folded polypeptides\\n or subunits are arranged with respect to each other (e.g. linear string\\n of spheres, spheres arranged one upon each other in the form of a\\n cube or plate etc.) is the architecture of a protein otherwise called\\n the quaternary structure  of a protein  (Fig. 9.3 d) . Adult human\\n haemoglobin consists of 4 subunits. Two of these are identical to\\n each other . Hence, two subunits of α type and two subunits of β\\n type together constitute the human haemoglobin (Hb).\\n 9.8 ENZYMES\\n Almost all enzymes are proteins. There are some nucleic acids that behave\\n like enzymes. These are called ribozymes. One can depict an enzyme by a\\n line diagram. An enzyme like any protein has a primary structure, i.e.,\\n amino acid sequence of the protein. An enzyme like any protein has the\\n secondary and the tertiary structure. When you look at a tertiary structure\\n (Figure 9.3 d)  you will notice that the backbone of the protein chain folds\\n Rationalised 2023-24\\n BIOMOLECULES 113\\n ←\\uf8e7\\uf8e7\\uf8e7\\uf8e7 \\uf8e7upon itself, the chain criss-crosses itself and hence, many crevices or\\n pockets are made. One such pocket is the ‘active site’. An active site of an\\n enzyme is a crevice or pocket into which the substrate fits. Thus enzymes,\\n through their active site, catalyse reactions at a high rate. Enzyme catalysts\\n differ from inorganic catalysts in many ways, but one major difference'}, vector=None),\n",
       " ScoredPoint(id=2, version=1, score=0.09839718, payload={'text': 'Water H2O\\n Compounds NaCl, CaCO3,\\n PO SO43\\n 42 − −,TABLE 9.2 A List of Representative Inorganic\\n Constituents of Living Tissues\\n the kind of organic (Figure 9.1) and inorganic constituents (Table 9.2)\\n present in living tissues. From a chemistry point of view, one can identify\\n functional groups like aldehydes, ketones, aromatic compounds, etc. But\\n from a biological point of view, we shall classify them into amino acids,\\n nucleotide bases, fatty acids etc.\\n Amino acids are organic compounds containing an amino group and\\n an acidic group as substituents on the same carbon i.e., the α-carbon.\\n Hence , they are called α-amino acids. They are substituted methanes. There\\n are four substituent groups occupying the four valency positions. These\\n are hydrogen, carboxyl group, amino group and a variable group\\n designated as R group. Based on the nature of R group there are many\\n amino acids. However , those which occur in pr oteins ar e only of twenty\\n Rationalised 2023-24\\n 106 BIOLOGY\\n types. The R group in these proteinaceous amino acids could be a hydrogen\\n (the amino acid is called glycine), a methyl group (alanine), hydroxy methyl\\n (serine), etc. Three of the twenty are shown in Figure 9.1.\\n The chemical and physical properties of amino acids are essentially\\n of the amino, carboxyl and the R functional groups. Based on number of\\n amino and carboxyl groups, there are acidic (e.g., glutamic acid), basic\\n (lysine) and neutral (valine) amino acids. Similarly, there are aromatic\\n amino acids (tyrosine, phenylalanine, tryptophan). A particular property\\n of amino acids is the ionizable nature of –NH2 and –COOH groups. Hence\\n in solutions of different pH, the structure of amino acids changes.\\n B is called zwitterionic form.\\n Lipids are generally water insoluble. They could be simple fatty acids.\\n A fatty acid has a carboxyl group attached to an R group. The R group\\n could be a methyl (–CH3), or ethyl  (–C2H5) or higher number of –CH2'}, vector=None),\n",
       " ScoredPoint(id=17, version=1, score=0.08677584, payload={'text': 'material. Polysaccharides are components of cell wall in plants, fungi and also\\n of the exoskeleton of arthropods. They also are storage forms of energy (e.g. ,\\n starch and glycogen). Proteins serve a variety of cellular functions. Many of\\n them are enzymes, some are antibodies, some are receptors, some are hormones\\n and some others are structural proteins. Collagen is the most abundant protein\\n in animal world and Ribulose bisphosphate Carboxylase-Oxygenase ( RuBisCO )\\n is the most abundant protein in the whole of the biosphere.\\n Enzymes are proteins which catalyse biochemical reactions in the cells.\\n Ribozymes ar e nucleic acids with catalytic power . Proteinaceous enzymes exhibit\\n substrate specificity, require optimum temperature and pH for maximal activity.\\n They are denatured at high temperatures. Enzymes lower activation energy of\\n reactions and enhance greatly the rate of the reactions. Nucleic acids carry\\n hereditary information and are passed on from parental generation to progeny.\\n EXERCISES\\n 1.What are macromolecules? Give examples.\\n 2.What is meant by tertiary structure of proteins?\\n 3.Find and write down structures of 10 interesting small molecular weight\\n biomolecules. Find if there is any industry which manufactures the compounds\\n by isolation. Find out who are the buyers.\\n 4.Find out and make a list of proteins used as therapeutic agents. Find other\\n applications of proteins (e.g., Cosmetics etc.)\\n 5.Explain the composition of triglyceride.\\n 6.Can you attempt building models of biomolecules using commercially available\\n atomic models (Ball and Stick models).\\n 7.Draw the structure of the amino acid, alanine.\\n 8.What are gums made of? Is Fevicol different?\\n 9.Find out a qualitative test for proteins, fats and oils, amino acids and test any\\n fruit juice, saliva, sweat and urine for them.\\n 10.Find out how much cellulose is made by all the plants in the biosphere and\\n compare it with how much of paper is manufactured by man and hence what is'}, vector=None),\n",
       " ScoredPoint(id=4, version=1, score=0.08310113, payload={'text': 'Sugars (Carbohydrates)Serine Glycine\\n Amino acidsAlanine\\n Figure 9.1 Diagrammatic representation of small molecular weight organic\\n compounds in living tissuesOOHN\\n N\\n HAdenine (Purine)\\n Uracil (Pyrimidine)\\n Rationalised 2023-24\\n 108 BIOLOGY\\n 9.2PRIMARY  AND SECONDARY  METABOLITES\\n The most exciting aspect of chemistry deals with isolating thousands of\\n compounds, small and big, from living organisms, determining their\\n structure and if possible synthesising them.\\n If one were to make a list of biomolecules, such a list would have\\n thousands of organic compounds including amino acids, sugars, etc.\\n For reasons that are given in section 9.10, we can call these biomolecules\\n as ‘metabolites’. In animal tissues, one notices the presence of all such\\n categories of compounds shown in Figure 9.1. These are called primary\\n metabolites. However , when one analyses plant, fungal and microbial cells,\\n one would see thousands of compounds other than these called primary\\n metabolites, e.g. alkaloids, flavonoids, rubber , essential oils, antibiotics,\\n coloured pigments, scents, gums, spices. These\\n are called secondary metabolites  (Table 9.3).\\n While primary metabolites have identifiable\\n functions and play known roles in normal\\n physiologial processes, we do not at the moment,\\n understand the role or functions of all the\\n ‘secondary metabolites’ in host organisms.\\n However , many of them are useful to ‘human\\n welfar e’ (e.g., rubber , drugs, spices, scents and\\n pigments). Some secondary metabolites have\\n ecological importance. In the later chapters and\\n years you will learn more about this.\\n 9.3BIOMACROMOLECULES\\n There is one feature common to all those compounds found in the acid\\n soluble pool. They have molecular weights ranging from 18 to around\\n 800 daltons (Da) approximately.\\n The acid insoluble fraction, has only four types of organic compounds\\n i.e., proteins, nucleic acids, polysaccharides and lipids. These classes of'}, vector=None),\n",
       " ScoredPoint(id=11, version=1, score=0.07532854, payload={'text': 'In the absence of any enzyme this reaction is very slow, with about\\n 200 molecules of H2CO3 being for med in an hour . However , by using the\\n enzyme present within the cytoplasm called carbonic anhydrase, the\\n reaction speeds dramatically with about 600,000 molecules being formed\\n every second. The enzyme has accelerated the reaction rate by about 10\\n million times. The power of enzymes is incredible indeed!\\n There are thousands of types of enzymes each catalysing a unique\\n chemical or metabolic reaction. A multistep chemical reaction, when each\\n of the steps is catalysed by the same enzyme complex or different enzymes,\\n is called a metabolic pathway. For example,\\n Glucose →2 Pyruvic acid\\n C6H12O6  +  O2 → 2C3H4 O3 + 2H2O\\n is actually a metabolic pathway in which glucose becomes pyruvic acid\\n through ten different enzyme catalysed metabolic reactions. When you\\n study respiration in Chapter 12 you will study these reactions.  At this\\n stage you should know that this very metabolic pathway with one or two\\n additional reactions gives rise to a variety of metabolic end products. In\\n our skeletal muscle, under anaerobic conditions, lactic acid is formed.\\n Under normal aerobic conditions, pyruvic acid is formed. In yeast,  during\\n fermentation, the same pathway leads to the production of ethanol\\n (alcohol). Hence, in different conditions different products are possible.\\n 9.8.2 How do Enzymes bring about such High Rates of\\n Chemical Conversions?\\n To understand this we should study enzymes a little mor e. We have alr eady\\n understood the idea of an ‘active site’. The chemical or metabolic conversion\\n refers to a reaction. The chemical which is converted into a product is\\n called a ‘substrate’. Hence enzymes, i.e. proteins with three dimensional\\n structures including an ‘active site’, convert a substrate (S) into a product\\n (P). Symbolically, this can be depicted as:\\n S →P\\n It is now understood that the substrate ‘S’ has to bind the enzyme at'}, vector=None),\n",
       " ScoredPoint(id=13, version=1, score=0.057886284, payload={'text': 'Each enzyme (E) has a substrate (S) binding site in its molecule so that a\\n highly reactive enzyme-substrate complex (ES) is produced. This\\n complex is short-lived and dissociates into its product(s) P and the\\n unchanged enzyme with an intermediate formation of the enzyme-product\\n complex (EP).\\n The formation of the ES complex is essential for catalysis.\\n E + S          ES  \\uf8e7 → \\uf8e7  EP \\uf8e7 → \\uf8e7   E + P\\n The catalytic cycle of an enzyme action can be described in the following\\n steps:\\n 1.First, the substrate binds to the active site of the enzyme, fitting\\n into the active site.\\n 2.The binding of the substrate induces the enzyme to alter its shape,\\n fitting more tightly around the substrate.\\n 3.The active site of the enzyme, now in close proximity of the\\n substrate breaks the chemical bonds of the substrate and the\\n new enzyme- product complex is formed.Activation□energy\\n without□enzymePotential□En\\n ergy\\n Activation\\n energy□with□enzyme\\n Substrate□(s)\\n Product□(P)\\n Progress□of□reactionTransition□state\\n Figure  9.4  Concept of activation energy\\n Rationalised 2023-24\\n 116 BIOLOGY\\n 4.The enzyme releases the products of the reaction and the free\\n enzyme is ready to bind to another molecule of the substrate and\\n run through the catalytic cycle once again.\\n 9.8.4 Factors Affecting Enzyme Activity\\n The activity of an enzyme can be affected by a change in the conditions\\n which can alter the tertiary structure of the protein. These include\\n temperature, pH, change in substrate concentration or binding of specific\\n chemicals that regulate its activity.\\n Temperature and pH\\n Enzymes generally function in a narrow range of temperature and pH\\n (Figure 9.5). Each enzyme shows its highest activity at a particular\\n temperature and pH called the optimum temperature and optimum pH.\\n Activity declines both below and above the optimum value. Low\\n temperature preserves the enzyme in a temporarily inactive state whereas\\n high temperature destroys enzymatic activity because proteins are'}, vector=None),\n",
       " ScoredPoint(id=7, version=1, score=0.05547848, payload={'text': 'another class of macromolecules. Polysaccharides are long chains of\\n sugars. They are threads (literally a cotton thread) containing different\\n monosaccharides as building blocks. For example , cellulose is a\\n polymeric polysaccharide consisting of only one type of monosaccharide\\n i.e., glucose. Cellulose is a homopolymer . Star ch is a variant of this but\\n present as a store house of energy in plant tissues. Animals have another\\n variant called glycogen. Inulin is a polymer of fructose. In a\\n polysaccharide chain (say glycogen), the right end is called the reducing\\n end and the left end is called the non-reducing end. It has branches as\\n shown in the form of a cartoon (Figure 9.2). Starch forms helical\\n secondary structures. In fact, starch can hold I2 molecules in the helical\\n portion. The star ch-I2 is blue in colour . Cellulose does not contain\\n complex helices and hence cannot hold I2.\\n Rationalised 2023-24\\n BIOMOLECULES 111\\n Plant cell walls are made of cellulose. Paper made from plant pulp\\n and cotton fibre is cellulosic. There are more complex polysaccharides\\n in nature. They have as building blocks, amino-sugars and chemically\\n modified sugars (e.g., glucosamine, N-acetyl galactosamine, etc.).\\n Exoskeletons of arthropods, for example, have a complex\\n polysaccharide called chitin. These complex polysaccharides are mostly\\n homopolymers.\\n 9.6NUCLEIC  ACIDS\\n The other type of macromolecule that one would find in the acid\\n insoluble fraction of any living tissue is the nucleic acid. These are\\n polynucleotides. Together with polysaccharides and polypeptides these\\n comprise the true macromolecular fraction of any living tissue or cell.\\n For nucleic acids, the building block is a nucleotide. A nucleotide has\\n three chemically distinct components. One is a heterocyclic compound,\\n the second is a monosaccharide and the third a phosphoric acid or\\n phosphate.\\n As you notice in Figure 9.1, the heterocyclic compounds in nucleic'}, vector=None),\n",
       " ScoredPoint(id=1, version=1, score=0.054803163, payload={'text': 'Rationalised 2023-24\\n BIOMOLECULES 105\\n In higher classes you will learn about how\\n to analyse a living tissue sample and identify a\\n particular organic compound. It will suffice to\\n say here that one extracts the compounds, then\\n subjects the extract to various separation\\n techniques till one has separated a compound\\n from all other compounds. In other words, one\\n isolates and purifies a compound. Analytical\\n techniques, when applied to the compound give\\n us an idea of the molecular formula and the\\n probable structure of the compound. All the\\n carbon compounds that we get from living\\n tissues can be called ‘biomolecules’. However ,\\n living organisms have also got inorganic\\n elements and compounds in them. How do we\\n know this? A slightly different but destructive\\n experiment has to be done. One weighs a small\\n amount of a living tissue (say a leaf or liver and\\n this is called wet weight) and dry it. All the water ,\\n evaporates. The remaining material gives dry\\n weight. Now if the tissue is fully burnt, all the\\n carbon compounds are oxidised to gaseous\\n form (CO2, water vapour) and are removed. What\\n is remaining is called ‘ash’. This ash contains\\n inorganic elements (like calcium, magnesium\\n etc). Inorganic compounds like sulphate,\\n phosphate, etc., are also seen in the acid-soluble\\n fraction. Therefore elemental analysis gives\\n elemental composition of living tissues in the\\n form of hydrogen, oxygen, chlorine, carbon etc.\\n while analysis for compounds gives an idea ofElement % Weight of\\n   Earth’s crust  Human body\\n Hydrogen (H) 0.14 0.5\\n Carbon  (C) 0.03 18.5\\n Oxygen (O) 46.6 65.0\\n Nitrogen (N) very little 3.3\\n Sulphur (S) 0.03 0.3\\n Sodium (Na) 2.8 0.2\\n Calcium (Ca) 3.6 1.5\\n Magnesium (Mg) 2.1 0.1\\n Silicon (Si) 27.7 negligible\\n * Adapted from CNR Rao, Understanding Chemistry ,\\n Universities Press, Hyderabad.TABLE 9.1 A Comparison of Elements Present\\n in Non-living and Living Matter*\\n Component Formula\\n Sodium Na+\\n Potassium K+\\n Calcium Ca++\\n Magnesium Mg++'}, vector=None),\n",
       " ScoredPoint(id=12, version=1, score=0.045465317, payload={'text': 'its ‘active site’ within a given cleft or pocket. The substrate has to diffuse\\n towards the ‘active site’. There is thus, an obligatory formation of an ‘ES’\\n complex. E stands for enzyme. This complex formation is a transient\\n phenomenon. During the state where substrate is bound to the enzyme\\n active site, a new structure of the substrate called transition state structure\\n is formed. V ery soon, after the expected bond br eaking/making is\\n completed, the product is released from the active site. In other words,\\n the structure of substrate gets transformed into the structure of product(s).\\n The pathway of this transformation must go through the so-called\\n Rationalised 2023-24\\n BIOMOLECULES 115\\n transition state structure. There could be many\\n more ‘altered structural states’ between the stable\\n substrate and the product. Implicit in this\\n statement is the fact that all other intermediate\\n structural states are unstable. Stability is\\n something related to energy status of the\\n molecule or the structure. Hence, when we look\\n at this pictorially through a graph it looks like\\n something as in Figure 9.4.\\n The y-axis represents the potential energy\\n content. The x-axis represents the progression\\n of the structural transformation or states\\n through the ‘transition state’. Y ou would notice\\n two things. The energy level difference between\\n S and P . If ‘P’ is at a lower level than ‘S’, the r eaction\\n is an exothermic reaction. One need not supply\\n energy (by heating) in order to form the product.\\n However , whether it is an exother mic or spontaneous r eaction or an\\n endothermic or energy requiring reaction, the ‘S’ has to go through a much\\n higher energy state or transition state. The difference in average energy content\\n of ‘S’ from that of this transition state is called ‘activation energy’.\\n Enzymes eventually bring down this energy barrier making the\\n transition of ‘S’ to ‘P’ more easy.\\n 9.8.3 Nature of Enzyme Action'}, vector=None)]"
      ]
     },
     "execution_count": 24,
     "metadata": {},
     "output_type": "execute_result"
    }
   ],
   "source": [
    "search_result"
   ]
  },
  {
   "cell_type": "code",
   "execution_count": 25,
   "metadata": {},
   "outputs": [],
   "source": [
    "payloads = [hit.payload for hit in search_result]"
   ]
  },
  {
   "cell_type": "code",
   "execution_count": 26,
   "metadata": {},
   "outputs": [
    {
     "data": {
      "text/plain": [
       "[{'text': 'the consumption of plant material by man annually. What a loss of vegetation!\\n 11.Describe the important properties of enzymes.\\n Rationalised 2023-24'},\n",
       " {'text': 'secondary structure  (Fig. 9.3 b) . In\\n addition, the long protein chain is\\n also folded upon itself like a hollow\\n woolen ball, giving rise to the\\n tertiary structure  (Fig. 9.3 c). This\\n gives us a 3-dimensional view of a\\n protein.  Tertiary  structure  is\\n absolutely necessary for the many\\n biological activities of proteins.\\n Figure 9.3 Various levels of Pr otein Structur e(a) Primary\\n (b) Secondary\\n (d)     QuaternaryHydrogen\\n Disulphide bondBeta–plated sheetPolypeptide\\n TertiaryAlpha–Helix\\n (c)\\n Some proteins are an assembly of more than one polypeptide or\\n subunits. The manner in which these individual folded polypeptides\\n or subunits are arranged with respect to each other (e.g. linear string\\n of spheres, spheres arranged one upon each other in the form of a\\n cube or plate etc.) is the architecture of a protein otherwise called\\n the quaternary structure  of a protein  (Fig. 9.3 d) . Adult human\\n haemoglobin consists of 4 subunits. Two of these are identical to\\n each other . Hence, two subunits of α type and two subunits of β\\n type together constitute the human haemoglobin (Hb).\\n 9.8 ENZYMES\\n Almost all enzymes are proteins. There are some nucleic acids that behave\\n like enzymes. These are called ribozymes. One can depict an enzyme by a\\n line diagram. An enzyme like any protein has a primary structure, i.e.,\\n amino acid sequence of the protein. An enzyme like any protein has the\\n secondary and the tertiary structure. When you look at a tertiary structure\\n (Figure 9.3 d)  you will notice that the backbone of the protein chain folds\\n Rationalised 2023-24\\n BIOMOLECULES 113\\n ←\\uf8e7\\uf8e7\\uf8e7\\uf8e7 \\uf8e7upon itself, the chain criss-crosses itself and hence, many crevices or\\n pockets are made. One such pocket is the ‘active site’. An active site of an\\n enzyme is a crevice or pocket into which the substrate fits. Thus enzymes,\\n through their active site, catalyse reactions at a high rate. Enzyme catalysts\\n differ from inorganic catalysts in many ways, but one major difference'},\n",
       " {'text': 'Water H2O\\n Compounds NaCl, CaCO3,\\n PO SO43\\n 42 − −,TABLE 9.2 A List of Representative Inorganic\\n Constituents of Living Tissues\\n the kind of organic (Figure 9.1) and inorganic constituents (Table 9.2)\\n present in living tissues. From a chemistry point of view, one can identify\\n functional groups like aldehydes, ketones, aromatic compounds, etc. But\\n from a biological point of view, we shall classify them into amino acids,\\n nucleotide bases, fatty acids etc.\\n Amino acids are organic compounds containing an amino group and\\n an acidic group as substituents on the same carbon i.e., the α-carbon.\\n Hence , they are called α-amino acids. They are substituted methanes. There\\n are four substituent groups occupying the four valency positions. These\\n are hydrogen, carboxyl group, amino group and a variable group\\n designated as R group. Based on the nature of R group there are many\\n amino acids. However , those which occur in pr oteins ar e only of twenty\\n Rationalised 2023-24\\n 106 BIOLOGY\\n types. The R group in these proteinaceous amino acids could be a hydrogen\\n (the amino acid is called glycine), a methyl group (alanine), hydroxy methyl\\n (serine), etc. Three of the twenty are shown in Figure 9.1.\\n The chemical and physical properties of amino acids are essentially\\n of the amino, carboxyl and the R functional groups. Based on number of\\n amino and carboxyl groups, there are acidic (e.g., glutamic acid), basic\\n (lysine) and neutral (valine) amino acids. Similarly, there are aromatic\\n amino acids (tyrosine, phenylalanine, tryptophan). A particular property\\n of amino acids is the ionizable nature of –NH2 and –COOH groups. Hence\\n in solutions of different pH, the structure of amino acids changes.\\n B is called zwitterionic form.\\n Lipids are generally water insoluble. They could be simple fatty acids.\\n A fatty acid has a carboxyl group attached to an R group. The R group\\n could be a methyl (–CH3), or ethyl  (–C2H5) or higher number of –CH2'},\n",
       " {'text': 'material. Polysaccharides are components of cell wall in plants, fungi and also\\n of the exoskeleton of arthropods. They also are storage forms of energy (e.g. ,\\n starch and glycogen). Proteins serve a variety of cellular functions. Many of\\n them are enzymes, some are antibodies, some are receptors, some are hormones\\n and some others are structural proteins. Collagen is the most abundant protein\\n in animal world and Ribulose bisphosphate Carboxylase-Oxygenase ( RuBisCO )\\n is the most abundant protein in the whole of the biosphere.\\n Enzymes are proteins which catalyse biochemical reactions in the cells.\\n Ribozymes ar e nucleic acids with catalytic power . Proteinaceous enzymes exhibit\\n substrate specificity, require optimum temperature and pH for maximal activity.\\n They are denatured at high temperatures. Enzymes lower activation energy of\\n reactions and enhance greatly the rate of the reactions. Nucleic acids carry\\n hereditary information and are passed on from parental generation to progeny.\\n EXERCISES\\n 1.What are macromolecules? Give examples.\\n 2.What is meant by tertiary structure of proteins?\\n 3.Find and write down structures of 10 interesting small molecular weight\\n biomolecules. Find if there is any industry which manufactures the compounds\\n by isolation. Find out who are the buyers.\\n 4.Find out and make a list of proteins used as therapeutic agents. Find other\\n applications of proteins (e.g., Cosmetics etc.)\\n 5.Explain the composition of triglyceride.\\n 6.Can you attempt building models of biomolecules using commercially available\\n atomic models (Ball and Stick models).\\n 7.Draw the structure of the amino acid, alanine.\\n 8.What are gums made of? Is Fevicol different?\\n 9.Find out a qualitative test for proteins, fats and oils, amino acids and test any\\n fruit juice, saliva, sweat and urine for them.\\n 10.Find out how much cellulose is made by all the plants in the biosphere and\\n compare it with how much of paper is manufactured by man and hence what is'},\n",
       " {'text': 'Sugars (Carbohydrates)Serine Glycine\\n Amino acidsAlanine\\n Figure 9.1 Diagrammatic representation of small molecular weight organic\\n compounds in living tissuesOOHN\\n N\\n HAdenine (Purine)\\n Uracil (Pyrimidine)\\n Rationalised 2023-24\\n 108 BIOLOGY\\n 9.2PRIMARY  AND SECONDARY  METABOLITES\\n The most exciting aspect of chemistry deals with isolating thousands of\\n compounds, small and big, from living organisms, determining their\\n structure and if possible synthesising them.\\n If one were to make a list of biomolecules, such a list would have\\n thousands of organic compounds including amino acids, sugars, etc.\\n For reasons that are given in section 9.10, we can call these biomolecules\\n as ‘metabolites’. In animal tissues, one notices the presence of all such\\n categories of compounds shown in Figure 9.1. These are called primary\\n metabolites. However , when one analyses plant, fungal and microbial cells,\\n one would see thousands of compounds other than these called primary\\n metabolites, e.g. alkaloids, flavonoids, rubber , essential oils, antibiotics,\\n coloured pigments, scents, gums, spices. These\\n are called secondary metabolites  (Table 9.3).\\n While primary metabolites have identifiable\\n functions and play known roles in normal\\n physiologial processes, we do not at the moment,\\n understand the role or functions of all the\\n ‘secondary metabolites’ in host organisms.\\n However , many of them are useful to ‘human\\n welfar e’ (e.g., rubber , drugs, spices, scents and\\n pigments). Some secondary metabolites have\\n ecological importance. In the later chapters and\\n years you will learn more about this.\\n 9.3BIOMACROMOLECULES\\n There is one feature common to all those compounds found in the acid\\n soluble pool. They have molecular weights ranging from 18 to around\\n 800 daltons (Da) approximately.\\n The acid insoluble fraction, has only four types of organic compounds\\n i.e., proteins, nucleic acids, polysaccharides and lipids. These classes of'},\n",
       " {'text': 'In the absence of any enzyme this reaction is very slow, with about\\n 200 molecules of H2CO3 being for med in an hour . However , by using the\\n enzyme present within the cytoplasm called carbonic anhydrase, the\\n reaction speeds dramatically with about 600,000 molecules being formed\\n every second. The enzyme has accelerated the reaction rate by about 10\\n million times. The power of enzymes is incredible indeed!\\n There are thousands of types of enzymes each catalysing a unique\\n chemical or metabolic reaction. A multistep chemical reaction, when each\\n of the steps is catalysed by the same enzyme complex or different enzymes,\\n is called a metabolic pathway. For example,\\n Glucose →2 Pyruvic acid\\n C6H12O6  +  O2 → 2C3H4 O3 + 2H2O\\n is actually a metabolic pathway in which glucose becomes pyruvic acid\\n through ten different enzyme catalysed metabolic reactions. When you\\n study respiration in Chapter 12 you will study these reactions.  At this\\n stage you should know that this very metabolic pathway with one or two\\n additional reactions gives rise to a variety of metabolic end products. In\\n our skeletal muscle, under anaerobic conditions, lactic acid is formed.\\n Under normal aerobic conditions, pyruvic acid is formed. In yeast,  during\\n fermentation, the same pathway leads to the production of ethanol\\n (alcohol). Hence, in different conditions different products are possible.\\n 9.8.2 How do Enzymes bring about such High Rates of\\n Chemical Conversions?\\n To understand this we should study enzymes a little mor e. We have alr eady\\n understood the idea of an ‘active site’. The chemical or metabolic conversion\\n refers to a reaction. The chemical which is converted into a product is\\n called a ‘substrate’. Hence enzymes, i.e. proteins with three dimensional\\n structures including an ‘active site’, convert a substrate (S) into a product\\n (P). Symbolically, this can be depicted as:\\n S →P\\n It is now understood that the substrate ‘S’ has to bind the enzyme at'},\n",
       " {'text': 'Each enzyme (E) has a substrate (S) binding site in its molecule so that a\\n highly reactive enzyme-substrate complex (ES) is produced. This\\n complex is short-lived and dissociates into its product(s) P and the\\n unchanged enzyme with an intermediate formation of the enzyme-product\\n complex (EP).\\n The formation of the ES complex is essential for catalysis.\\n E + S          ES  \\uf8e7 → \\uf8e7  EP \\uf8e7 → \\uf8e7   E + P\\n The catalytic cycle of an enzyme action can be described in the following\\n steps:\\n 1.First, the substrate binds to the active site of the enzyme, fitting\\n into the active site.\\n 2.The binding of the substrate induces the enzyme to alter its shape,\\n fitting more tightly around the substrate.\\n 3.The active site of the enzyme, now in close proximity of the\\n substrate breaks the chemical bonds of the substrate and the\\n new enzyme- product complex is formed.Activation□energy\\n without□enzymePotential□En\\n ergy\\n Activation\\n energy□with□enzyme\\n Substrate□(s)\\n Product□(P)\\n Progress□of□reactionTransition□state\\n Figure  9.4  Concept of activation energy\\n Rationalised 2023-24\\n 116 BIOLOGY\\n 4.The enzyme releases the products of the reaction and the free\\n enzyme is ready to bind to another molecule of the substrate and\\n run through the catalytic cycle once again.\\n 9.8.4 Factors Affecting Enzyme Activity\\n The activity of an enzyme can be affected by a change in the conditions\\n which can alter the tertiary structure of the protein. These include\\n temperature, pH, change in substrate concentration or binding of specific\\n chemicals that regulate its activity.\\n Temperature and pH\\n Enzymes generally function in a narrow range of temperature and pH\\n (Figure 9.5). Each enzyme shows its highest activity at a particular\\n temperature and pH called the optimum temperature and optimum pH.\\n Activity declines both below and above the optimum value. Low\\n temperature preserves the enzyme in a temporarily inactive state whereas\\n high temperature destroys enzymatic activity because proteins are'},\n",
       " {'text': 'another class of macromolecules. Polysaccharides are long chains of\\n sugars. They are threads (literally a cotton thread) containing different\\n monosaccharides as building blocks. For example , cellulose is a\\n polymeric polysaccharide consisting of only one type of monosaccharide\\n i.e., glucose. Cellulose is a homopolymer . Star ch is a variant of this but\\n present as a store house of energy in plant tissues. Animals have another\\n variant called glycogen. Inulin is a polymer of fructose. In a\\n polysaccharide chain (say glycogen), the right end is called the reducing\\n end and the left end is called the non-reducing end. It has branches as\\n shown in the form of a cartoon (Figure 9.2). Starch forms helical\\n secondary structures. In fact, starch can hold I2 molecules in the helical\\n portion. The star ch-I2 is blue in colour . Cellulose does not contain\\n complex helices and hence cannot hold I2.\\n Rationalised 2023-24\\n BIOMOLECULES 111\\n Plant cell walls are made of cellulose. Paper made from plant pulp\\n and cotton fibre is cellulosic. There are more complex polysaccharides\\n in nature. They have as building blocks, amino-sugars and chemically\\n modified sugars (e.g., glucosamine, N-acetyl galactosamine, etc.).\\n Exoskeletons of arthropods, for example, have a complex\\n polysaccharide called chitin. These complex polysaccharides are mostly\\n homopolymers.\\n 9.6NUCLEIC  ACIDS\\n The other type of macromolecule that one would find in the acid\\n insoluble fraction of any living tissue is the nucleic acid. These are\\n polynucleotides. Together with polysaccharides and polypeptides these\\n comprise the true macromolecular fraction of any living tissue or cell.\\n For nucleic acids, the building block is a nucleotide. A nucleotide has\\n three chemically distinct components. One is a heterocyclic compound,\\n the second is a monosaccharide and the third a phosphoric acid or\\n phosphate.\\n As you notice in Figure 9.1, the heterocyclic compounds in nucleic'},\n",
       " {'text': 'Rationalised 2023-24\\n BIOMOLECULES 105\\n In higher classes you will learn about how\\n to analyse a living tissue sample and identify a\\n particular organic compound. It will suffice to\\n say here that one extracts the compounds, then\\n subjects the extract to various separation\\n techniques till one has separated a compound\\n from all other compounds. In other words, one\\n isolates and purifies a compound. Analytical\\n techniques, when applied to the compound give\\n us an idea of the molecular formula and the\\n probable structure of the compound. All the\\n carbon compounds that we get from living\\n tissues can be called ‘biomolecules’. However ,\\n living organisms have also got inorganic\\n elements and compounds in them. How do we\\n know this? A slightly different but destructive\\n experiment has to be done. One weighs a small\\n amount of a living tissue (say a leaf or liver and\\n this is called wet weight) and dry it. All the water ,\\n evaporates. The remaining material gives dry\\n weight. Now if the tissue is fully burnt, all the\\n carbon compounds are oxidised to gaseous\\n form (CO2, water vapour) and are removed. What\\n is remaining is called ‘ash’. This ash contains\\n inorganic elements (like calcium, magnesium\\n etc). Inorganic compounds like sulphate,\\n phosphate, etc., are also seen in the acid-soluble\\n fraction. Therefore elemental analysis gives\\n elemental composition of living tissues in the\\n form of hydrogen, oxygen, chlorine, carbon etc.\\n while analysis for compounds gives an idea ofElement % Weight of\\n   Earth’s crust  Human body\\n Hydrogen (H) 0.14 0.5\\n Carbon  (C) 0.03 18.5\\n Oxygen (O) 46.6 65.0\\n Nitrogen (N) very little 3.3\\n Sulphur (S) 0.03 0.3\\n Sodium (Na) 2.8 0.2\\n Calcium (Ca) 3.6 1.5\\n Magnesium (Mg) 2.1 0.1\\n Silicon (Si) 27.7 negligible\\n * Adapted from CNR Rao, Understanding Chemistry ,\\n Universities Press, Hyderabad.TABLE 9.1 A Comparison of Elements Present\\n in Non-living and Living Matter*\\n Component Formula\\n Sodium Na+\\n Potassium K+\\n Calcium Ca++\\n Magnesium Mg++'},\n",
       " {'text': 'its ‘active site’ within a given cleft or pocket. The substrate has to diffuse\\n towards the ‘active site’. There is thus, an obligatory formation of an ‘ES’\\n complex. E stands for enzyme. This complex formation is a transient\\n phenomenon. During the state where substrate is bound to the enzyme\\n active site, a new structure of the substrate called transition state structure\\n is formed. V ery soon, after the expected bond br eaking/making is\\n completed, the product is released from the active site. In other words,\\n the structure of substrate gets transformed into the structure of product(s).\\n The pathway of this transformation must go through the so-called\\n Rationalised 2023-24\\n BIOMOLECULES 115\\n transition state structure. There could be many\\n more ‘altered structural states’ between the stable\\n substrate and the product. Implicit in this\\n statement is the fact that all other intermediate\\n structural states are unstable. Stability is\\n something related to energy status of the\\n molecule or the structure. Hence, when we look\\n at this pictorially through a graph it looks like\\n something as in Figure 9.4.\\n The y-axis represents the potential energy\\n content. The x-axis represents the progression\\n of the structural transformation or states\\n through the ‘transition state’. Y ou would notice\\n two things. The energy level difference between\\n S and P . If ‘P’ is at a lower level than ‘S’, the r eaction\\n is an exothermic reaction. One need not supply\\n energy (by heating) in order to form the product.\\n However , whether it is an exother mic or spontaneous r eaction or an\\n endothermic or energy requiring reaction, the ‘S’ has to go through a much\\n higher energy state or transition state. The difference in average energy content\\n of ‘S’ from that of this transition state is called ‘activation energy’.\\n Enzymes eventually bring down this energy barrier making the\\n transition of ‘S’ to ‘P’ more easy.\\n 9.8.3 Nature of Enzyme Action'}]"
      ]
     },
     "execution_count": 26,
     "metadata": {},
     "output_type": "execute_result"
    }
   ],
   "source": [
    "payloads"
   ]
  },
  {
   "cell_type": "code",
   "execution_count": 27,
   "metadata": {},
   "outputs": [
    {
     "data": {
      "text/plain": [
       "'the consumption of plant material by man annually. What a loss of vegetation!\\n 11.Describe the important properties of enzymes.\\n Rationalised 2023-24'"
      ]
     },
     "execution_count": 27,
     "metadata": {},
     "output_type": "execute_result"
    }
   ],
   "source": [
    "payloads[0][\"text\"]"
   ]
  },
  {
   "cell_type": "code",
   "execution_count": 28,
   "metadata": {},
   "outputs": [],
   "source": [
    "import openai\n",
    "key = 'd6bcc40e68fc4119abcd43b4661dc8e3'\n",
    "location = 'eastus'\n",
    "endpoint = 'https://openaidemos007.openai.azure.com/'\n",
    "\n",
    "openai.api_type = \"azure\"\n",
    "openai.api_key = key\n",
    "openai.api_base = endpoint\n",
    "\n",
    "deployment_id='gta'\n",
    "deployment_id_gpt4='gpt4'\n",
    "\n",
    "openai.api_key = key"
   ]
  },
  {
   "cell_type": "code",
   "execution_count": 29,
   "metadata": {},
   "outputs": [],
   "source": [
    "def create_prompt(context,query):\n",
    "    header = \"Answer the question as truthfully as possible using the provided context, and if the answer is not contained within the text and requires some latest information to be updated, print 'Sorry Not Sufficient context to answer query' \\n\"\n",
    "    return header + context + \"\\n\\n\" + query + \"\\n\"\n",
    "\n",
    "def generate_answer(prompt):\n",
    "    response = openai.Completion.create(\n",
    "    engine=deployment_id,\n",
    "    prompt=prompt,\n",
    "    temperature=0,\n",
    "    max_tokens=256,\n",
    "    top_p=1,\n",
    "    frequency_penalty=0,\n",
    "    presence_penalty=0,\n",
    "    stop = [' END']\n",
    "    )\n",
    "    return (response.choices[0].text).strip()\n",
    "\n",
    "def generate_answer_Chat(conversation):\n",
    "    openai.api_version = \"2023-03-15-preview\"\n",
    "    response = openai.ChatCompletion.create(\n",
    "    engine=deployment_id_gpt4,\n",
    "    messages=conversation,\n",
    "    temperature=0,\n",
    "    max_tokens=256,\n",
    "    top_p=1,\n",
    "    frequency_penalty=0,\n",
    "    presence_penalty=0,\n",
    "    stop = [' END']\n",
    "    )\n",
    "    return (response['choices'][0]['message']['content']).strip()\n",
    "\n"
   ]
  },
  {
   "cell_type": "code",
   "execution_count": 30,
   "metadata": {},
   "outputs": [],
   "source": [
    "payloads = [hit.payload for hit in search_result]\n",
    "metadata = [res[\"text\"] for res in payloads]\n",
    "df = pd.DataFrame({'content': metadata })\n",
    "context= \"\\n\\n\".join((df[\"content\"]))"
   ]
  },
  {
   "cell_type": "code",
   "execution_count": 31,
   "metadata": {},
   "outputs": [],
   "source": [
    "context = context[:7000]"
   ]
  },
  {
   "cell_type": "code",
   "execution_count": 32,
   "metadata": {},
   "outputs": [],
   "source": [
    "prompt = create_prompt(context,q_new)\n",
    "conversation=[{\"role\": \"system\", \"content\": \"You are a helpful assistant.\"}]\n",
    "conversation.append({\"role\": \"assistant\", \"content\": prompt})\n",
    "conversation.append({\"role\": \"user\", \"content\": user_input})\n",
    "reply = generate_answer_Chat(conversation)"
   ]
  },
  {
   "cell_type": "code",
   "execution_count": 33,
   "metadata": {},
   "outputs": [
    {
     "data": {
      "text/plain": [
       "'The keywords for this chapter are:\\n\\n1. Biomolecules\\n2. Macromolecules\\n3. Amino acids\\n4. Proteins\\n5. Enzymes\\n6. Ribozymes\\n7. Tertiary structure\\n8. Quaternary structure\\n9. Active site\\n10. Lipids\\n11. Fatty acids\\n12. Polysaccharides\\n13. Nucleic acids\\n14. Primary metabolites\\n15. Secondary metabolites'"
      ]
     },
     "execution_count": 33,
     "metadata": {},
     "output_type": "execute_result"
    }
   ],
   "source": [
    "reply"
   ]
  },
  {
   "cell_type": "code",
   "execution_count": null,
   "metadata": {},
   "outputs": [],
   "source": []
  }
 ],
 "metadata": {
  "kernelspec": {
   "display_name": "Python 3",
   "language": "python",
   "name": "python3"
  },
  "language_info": {
   "codemirror_mode": {
    "name": "ipython",
    "version": 3
   },
   "file_extension": ".py",
   "mimetype": "text/x-python",
   "name": "python",
   "nbconvert_exporter": "python",
   "pygments_lexer": "ipython3",
   "version": "3.9.13"
  },
  "orig_nbformat": 4
 },
 "nbformat": 4,
 "nbformat_minor": 2
}
